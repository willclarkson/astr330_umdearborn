{
 "cells": [
  {
   "cell_type": "markdown",
   "id": "30dcb048",
   "metadata": {},
   "source": [
    "# 2025 October 1: Arrays and other fragments #"
   ]
  },
  {
   "cell_type": "markdown",
   "id": "2ca10fb7",
   "metadata": {},
   "source": [
    "Will Clarkson, UM-Dearborn, Weds Oct 1, 2025\n",
    "\n",
    "This notebook is intended to support homework 3 for ASTR 330 - The Cosmic Distance Scale - for the 2025 Fall semester, and is something of a \"getting started with numpy and python\" for this course. \n",
    "\n",
    "It shows how to do a few operations that will be useful to students taking this course. Although this is written in python, the same basic operations should also be useful for other vector-based libraries (e.g. I think MATLAB uses similar operations, though the syntax might be different)."
   ]
  },
  {
   "cell_type": "code",
   "execution_count": 1,
   "id": "a3ca8dad",
   "metadata": {},
   "outputs": [],
   "source": [
    "# import a few things we'll need\n",
    "import numpy as np\n",
    "import matplotlib.pylab as plt"
   ]
  },
  {
   "cell_type": "code",
   "execution_count": 2,
   "id": "ee0409ec",
   "metadata": {},
   "outputs": [],
   "source": [
    "# matplotlib magic to display plots in this notebook\n",
    "%matplotlib inline"
   ]
  },
  {
   "cell_type": "markdown",
   "id": "0c944ebb",
   "metadata": {},
   "source": [
    "## Generate an array of Gaussian random variates (one dimension) ##"
   ]
  },
  {
   "cell_type": "code",
   "execution_count": 3,
   "id": "d7e2387f",
   "metadata": {},
   "outputs": [],
   "source": [
    "# Generate an array of 1000 Gaussian random numbers with mean 300, stddev 10\n",
    "#\n",
    "# if we want exact reproducibility, we can set the random number seed to some number\n",
    "#np.random.seed(123456789)\n",
    "np.random.seed(None)\n",
    "x1 = np.random.normal(300,10,1000)"
   ]
  },
  {
   "cell_type": "code",
   "execution_count": 4,
   "id": "2fed3bbb",
   "metadata": {},
   "outputs": [
    {
     "name": "stdout",
     "output_type": "stream",
     "text": [
      "(1000,)\n",
      "Mean 300.43, stddev 9.90\n"
     ]
    }
   ],
   "source": [
    "# Did that do what we expected?\n",
    "print(x1.shape)  # shape of the array - should be (1000,) if 1D with 1,000 points\n",
    "print(\"Mean %.2f, stddev %.2f\" % (np.mean(x1), np.std(x1))) # mean and standard deviation"
   ]
  },
  {
   "cell_type": "markdown",
   "id": "36b2fb34",
   "metadata": {},
   "source": [
    "## Generate three arrays of Gaussian random variates with the same width, do a few things with them ##"
   ]
  },
  {
   "cell_type": "code",
   "execution_count": 5,
   "id": "ca810a70",
   "metadata": {},
   "outputs": [],
   "source": [
    "x1 = np.random.normal(300,10,1000)\n",
    "x2 = np.random.normal(300,10,1000)\n",
    "x3 = np.random.normal(300,10,1000)"
   ]
  },
  {
   "cell_type": "code",
   "execution_count": 6,
   "id": "0325800f",
   "metadata": {},
   "outputs": [
    {
     "name": "stdout",
     "output_type": "stream",
     "text": [
      "stddev: 9.75\n",
      "stddev: 9.58\n",
      "stddev: 10.52\n"
     ]
    }
   ],
   "source": [
    "# print their stddevs, using a loop to reduce typing:\n",
    "for x in [x1, x2, x3]:\n",
    "    print(\"stddev: %.2f\" % np.std(x))"
   ]
  },
  {
   "cell_type": "code",
   "execution_count": 7,
   "id": "f1304196",
   "metadata": {},
   "outputs": [
    {
     "name": "stdout",
     "output_type": "stream",
     "text": [
      "(1000,) 5.70\n"
     ]
    }
   ],
   "source": [
    "# let's find the unweighted mean, element-by-element, and find its standard deviation\n",
    "smean = (x1+x2+x3) / 3.0\n",
    "print(smean.shape, \"%.2f\" % (np.std(smean)))  # note that the result is still a 1,000-element array"
   ]
  },
  {
   "cell_type": "markdown",
   "id": "b4ee6d9a",
   "metadata": {},
   "source": [
    "There are a few ways we might handle the weighted mean of these arrays. Since all elements *within*\n",
    "an array in this case have the same weight, we can simply use scalars for the weights, like so:"
   ]
  },
  {
   "cell_type": "code",
   "execution_count": 8,
   "id": "2f054e58",
   "metadata": {},
   "outputs": [],
   "source": [
    "# one way to handle the weights (as inverse variance)\n",
    "w1 = 1.0/10.**2\n",
    "w2 = 1.0/10.**2\n",
    "w3 = 1.0/10.**2\n",
    "\n",
    "wmean = (x1*w1 + x2*w2 + x3*w3)/(w1+w2+w3)"
   ]
  },
  {
   "cell_type": "markdown",
   "id": "9dbedfb4",
   "metadata": {},
   "source": [
    "For the equal-weight case here, this will produce identical results to the unweighted case. But you can easily see how to tweak this for the weighted case.\n",
    "\n",
    "There are more elegant, pythonic ways to do this (to handle, e.g. hundreds of arrays with their own weights), but we don't need to go there for the homework at-hand."
   ]
  },
  {
   "cell_type": "markdown",
   "id": "e169e2d8",
   "metadata": {},
   "source": [
    "## Plotting ##"
   ]
  },
  {
   "cell_type": "markdown",
   "id": "c50db14a",
   "metadata": {},
   "source": [
    "In python, the most popular (by far!) plotting library is **matplotlib**, which implements an object-oriented plotting environment that is quite similar to Matlab (in fact the syntax might carry straight over to Matlab). Here are a few examples of common operations."
   ]
  },
  {
   "cell_type": "markdown",
   "id": "a0e4b6d6",
   "metadata": {},
   "source": [
    "### Overplot the histograms of our three Gaussian random variables"
   ]
  },
  {
   "cell_type": "code",
   "execution_count": 9,
   "id": "59f43183",
   "metadata": {},
   "outputs": [
    {
     "data": {
      "image/png": "[encoded data removed]",
      "text/plain": [
       "<Figure size 504x432 with 1 Axes>"
      ]
     },
     "metadata": {
      "needs_background": "light"
     },
     "output_type": "display_data"
    }
   ],
   "source": [
    "# We don't need to give the figure its own object and axes, but I find it helps to\n",
    "# be able to refer to the axis later on if I want to change something. So it's a \n",
    "# good habit to get in to!\n",
    "fig1=plt.figure(1, figsize=(7,6))\n",
    "ax1=fig1.add_subplot(111)\n",
    "\n",
    "# Let's impose uniform ranges on our histograms by specifying quantities to which\n",
    "# we will refer later.\n",
    "nbins = 50\n",
    "xrange = (250,350)\n",
    "\n",
    "h1 = ax1.hist(x1, color='blue', alpha=0.25, bins=nbins, range=xrange, label='x1', histtype='stepfilled', lw=2)\n",
    "h2 = ax1.hist(x2, color='red', alpha=0.75, bins=nbins, range=xrange, label='x2', histtype='step')\n",
    "h3 = ax1.hist(x3, color='k', alpha=0.75, bins=nbins, range=xrange, label='x3', histtype='step')\n",
    "\n",
    "ax1.grid(alpha=0.5, color='0.5')\n",
    "\n",
    "leg=ax1.legend()\n",
    "\n",
    "ax1.set_xlabel('X')\n",
    "ax1.set_ylabel('N(X)')\n",
    "_ = ax1.set_title('Three realizations of Gaussian(300,10,1000)')\n",
    "\n",
    "# let's save this to disk\n",
    "fig1.savefig('test_histogram_example.png')"
   ]
  },
  {
   "cell_type": "markdown",
   "id": "dcc4cc33",
   "metadata": {},
   "source": [
    "Python commands come with built-in help. Forgot what the various arguments meant? Uncomment the following line to see the help for the histogram command (i.e. remove the \"#\" and hit \"Enter\")."
   ]
  },
  {
   "cell_type": "code",
   "execution_count": 10,
   "id": "96329587",
   "metadata": {},
   "outputs": [],
   "source": [
    "# help(plt.hist)"
   ]
  },
  {
   "cell_type": "markdown",
   "id": "bbfb3468",
   "metadata": {},
   "source": [
    "## Plotting data with errorbars in one dimension ##"
   ]
  },
  {
   "cell_type": "code",
   "execution_count": 11,
   "id": "b0cd0d6d",
   "metadata": {},
   "outputs": [],
   "source": [
    "# here we generate and plot measurements with some variable uncertainty in one dimension\n",
    "np.random.seed(12345789) # for reproducibility\n",
    "npts = 7\n",
    "ymean = 5.\n",
    "uncty_min = 0.1\n",
    "uncty_max = 2.5\n",
    "\n",
    "# now generate sample times and uncertainties \n",
    "t = np.sort(np.random.uniform(size=npts)*4.)\n",
    "sigma = np.random.uniform(size=npts) * (uncty_max-uncty_min) + uncty_min\n",
    "\n",
    "# we will measure ymean +/- sigma\n",
    "ypertn = np.random.normal(size=np.size(t))*sigma\n",
    "\n",
    "ytrue = np.repeat(ymean, np.size(t))\n",
    "ymeas = ytrue + ypertn"
   ]
  },
  {
   "cell_type": "code",
   "execution_count": 12,
   "id": "4f87b36f",
   "metadata": {},
   "outputs": [],
   "source": [
    "# we might be curious: what's the inverse variance weighted average of these data?\n",
    "wts = 1.0/sigma**2\n",
    "wtav = np.sum(ymeas * wts)/np.sum(wts)\n",
    "\n",
    "# What about the unweighted mean?\n",
    "mu = np.mean(ymeas)\n"
   ]
  },
  {
   "cell_type": "code",
   "execution_count": 13,
   "id": "b776cafe",
   "metadata": {},
   "outputs": [
    {
     "data": {
      "image/png": "[encoded data removed]",
      "text/plain": [
       "<Figure size 432x288 with 1 Axes>"
      ]
     },
     "metadata": {
      "needs_background": "light"
     },
     "output_type": "display_data"
    }
   ],
   "source": [
    "fig2=plt.figure(2)\n",
    "ax2=fig2.add_subplot(111)\n",
    "dum = ax2.errorbar(t,ymeas, sigma, linestyle='None', marker='o', ecolor='0.5', capsize=4, \\\n",
    "                  label=r'obs (1$\\sigma$ unctys)', zorder=5)\n",
    "ax2.set_xlabel('time (s)')\n",
    "ax2.set_ylabel('Y (W m$^{-2}$)')\n",
    "\n",
    "# let's show the \"true\" mean value\n",
    "_ = ax2.axhline(ymean, linestyle='-', lw=2, alpha=0.5, zorder=1, color='green', label='\"True\" ymean')\n",
    "\n",
    "# what about the weighted average?\n",
    "_ = ax2.axhline(wtav, linestyle='-.', alpha=0.5, zorder=2, color='purple', label='Weighted mean')\n",
    "\n",
    "_ = ax2.axhline(mu, linestyle='--', alpha=0.5, zorder=2, color='red', label='Unweighted mean')\n",
    "\n",
    "\n",
    "# we'll zoom out a little \n",
    "ax2.set_ylim(0,12)\n",
    "\n",
    "leg=ax2.legend()\n"
   ]
  },
  {
   "cell_type": "markdown",
   "id": "e645c9b3",
   "metadata": {},
   "source": [
    "## Plotting some functional form ##"
   ]
  },
  {
   "cell_type": "markdown",
   "id": "1a0f2eb7",
   "metadata": {},
   "source": [
    "Some environments (like Mathematica) make intelligent guesses about the independent variable which we want to manipulate. In most others, like python, we have to generate that ourselves. That's easy, though:"
   ]
  },
  {
   "cell_type": "code",
   "execution_count": 14,
   "id": "c5338c39",
   "metadata": {},
   "outputs": [],
   "source": [
    "# I couldn't remember if it was np.arange or np.linspace I wanted for this:\n",
    "# help(np.linspace)\n",
    "# help(np.arange)"
   ]
  },
  {
   "cell_type": "code",
   "execution_count": 15,
   "id": "dceb0ebe",
   "metadata": {},
   "outputs": [],
   "source": [
    "# Suppose we want to plot some f(x). First we generate x\n",
    "nfine = 1000\n",
    "x = np.linspace(-3., 3., nfine, endpoint=True)"
   ]
  },
  {
   "cell_type": "code",
   "execution_count": 17,
   "id": "5136ec5b",
   "metadata": {},
   "outputs": [
    {
     "data": {
      "text/plain": [
       "Text(0, 0.5, 'y')"
      ]
     },
     "execution_count": 17,
     "metadata": {},
     "output_type": "execute_result"
    },
    {
     "data": {
      "image/png": "[encoded data removed]",
      "text/plain": [
       "<Figure size 432x288 with 1 Axes>"
      ]
     },
     "metadata": {
      "needs_background": "light"
     },
     "output_type": "display_data"
    }
   ],
   "source": [
    "fig3=plt.figure(3)\n",
    "ax3=fig3.add_subplot(111)\n",
    "\n",
    "# (Notice that in python, raising to the power means using \"**\" and not \"^\".\n",
    "# So for example \"x squared\" is written \"x**2\".\n",
    "\n",
    "dum1 = ax3.plot(x, 0.1*x**2 + 0.02*x + 0.2, color='black', ls='--', zorder=5, label='quadratic')\n",
    "dum2 = ax3.plot(x, np.sin(np.degrees(0.2*x))*5.*np.exp(0.-x**2), color='purple', ls='-', \\\n",
    "                zorder=2, label=r'$\\sin( ) \\times e^{-x^2}$')\n",
    "\n",
    "leg=ax3.legend()\n",
    "\n",
    "ax3.set_xlabel('x')\n",
    "ax3.set_ylabel('y')"
   ]
  },
  {
   "cell_type": "markdown",
   "id": "6b2505d0",
   "metadata": {},
   "source": [
    "## Comments ##"
   ]
  },
  {
   "cell_type": "markdown",
   "id": "5ec85bb0",
   "metadata": {},
   "source": [
    "There are **lots** of ways to customize plots - see the Matplotlib documentation and the inline help on the functions for more. But this should get you started with the computer problems in the homework for ASTR 330.\n",
    "\n",
    "One point is worth mentioning: you very rarely (at least at this level!) need to loop through array elements. The machinery under the hood in **numpy** does this for you. For example, **np.sum(x1)** would sum along all the elements of the array **x1**. Were x1 a multi-dimensional array, you could specify which axis you want to sum over, etc."
   ]
  },
  {
   "cell_type": "code",
   "execution_count": null,
   "id": "b3e188c4",
   "metadata": {},
   "outputs": [],
   "source": []
  }
 ],
 "metadata": {
  "kernelspec": {
   "display_name": "Python 3",
   "language": "python",
   "name": "python3"
  },
  "language_info": {
   "codemirror_mode": {
    "name": "ipython",
    "version": 3
   },
   "file_extension": ".py",
   "mimetype": "text/x-python",
   "name": "python",
   "nbconvert_exporter": "python",
   "pygments_lexer": "ipython3",
   "version": "3.7.11"
  }
 },
 "nbformat": 4,
 "nbformat_minor": 5
}
